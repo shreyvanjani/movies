{
 "cells": [
  {
   "cell_type": "code",
   "execution_count": 1,
   "id": "cc537036-b6c0-4a74-b875-f19a0fcb6509",
   "metadata": {},
   "outputs": [],
   "source": [
    "import pandas as pd\n",
    "import numpy as np\n",
    "import json\n",
    "from pprint import pprint"
   ]
  },
  {
   "cell_type": "code",
   "execution_count": null,
   "id": "9c8e2f75-beb9-46b7-87cd-2febc3c0341b",
   "metadata": {},
   "outputs": [],
   "source": [
    "show = pd.read_csv('movie_data.csv', lineterminator ='\\n')"
   ]
  },
  {
   "cell_type": "code",
   "execution_count": null,
   "id": "f4ad415f-7c90-41ee-9584-61b52a98ae51",
   "metadata": {
    "scrolled": true
   },
   "outputs": [],
   "source": [
    "# pd.set_option('display.max_columns', None)\n",
    "# pd.set_option('display.max_rows', None)\n",
    "# np.set_printoptions(threshold = np.inf)\n",
    "# np.set_printoptions(linewidth = np.inf)"
   ]
  },
  {
   "cell_type": "code",
   "execution_count": null,
   "id": "068d8e8c-c5e0-4eac-afab-2ceb40b1f1f8",
   "metadata": {},
   "outputs": [],
   "source": [
    "np.set_printoptions()"
   ]
  },
  {
   "cell_type": "code",
   "execution_count": null,
   "id": "f4ebd371-32ff-436a-b43d-e4afea93687c",
   "metadata": {},
   "outputs": [],
   "source": [
    "# show.head(3)"
   ]
  },
  {
   "cell_type": "code",
   "execution_count": null,
   "id": "5f7730b7-4f11-4596-92a2-3d464c2d5da1",
   "metadata": {},
   "outputs": [],
   "source": [
    "# show.info()"
   ]
  },
  {
   "cell_type": "code",
   "execution_count": null,
   "id": "449445d1-51f8-4366-afff-48816f6cf5b3",
   "metadata": {},
   "outputs": [],
   "source": [
    "# 'adult',\n",
    "# 'movie_id',\n",
    "# 'original_language',\n",
    "# 'overview',\n",
    "# 'release_date',\n",
    "# 'title',\n",
    "# 'genre',\n",
    "# 'keywords',\n",
    "# 'cast',\n",
    "# 'crew'\n",
    "# #removing rest all coloumns "
   ]
  },
  {
   "cell_type": "code",
   "execution_count": null,
   "id": "63577599-be24-4a49-850a-10d18bc7425a",
   "metadata": {},
   "outputs": [],
   "source": [
    "show.shape"
   ]
  },
  {
   "cell_type": "code",
   "execution_count": null,
   "id": "ea0914f6-8cfa-4c2d-89b6-cdbe21a4b756",
   "metadata": {
    "scrolled": true
   },
   "outputs": [],
   "source": [
    "show.groupby('original_language')['original_language'].count().reset_index(name='count').sort_values(by='count')"
   ]
  },
  {
   "cell_type": "code",
   "execution_count": null,
   "id": "8d25a36f-7e64-4913-bd2a-2fb531ccff76",
   "metadata": {},
   "outputs": [],
   "source": [
    "# show[show['original_language'] == 'hi']"
   ]
  },
  {
   "cell_type": "code",
   "execution_count": null,
   "id": "335ce987-4141-4b00-8119-70584daadbbb",
   "metadata": {},
   "outputs": [],
   "source": [
    "df= show[['adult',\n",
    "'movie_id',\n",
    "'original_language',\n",
    "'overview',\n",
    "'release_date',\n",
    "'title',\n",
    "'genres',\n",
    "'keywords',\n",
    "'cast',\n",
    "'crew']]"
   ]
  },
  {
   "cell_type": "code",
   "execution_count": null,
   "id": "f7c99abe-4887-41c8-9f7c-ff963d2be4fd",
   "metadata": {},
   "outputs": [],
   "source": [
    "df.info()\n"
   ]
  },
  {
   "cell_type": "code",
   "execution_count": null,
   "id": "0543028c-4dda-4fb5-a970-6c0b2998ad26",
   "metadata": {},
   "outputs": [],
   "source": [
    "#desired data format\n",
    "#movie_id, title , tag "
   ]
  },
  {
   "cell_type": "code",
   "execution_count": null,
   "id": "159e180c-78b6-4f81-9faa-62112285efc7",
   "metadata": {},
   "outputs": [],
   "source": [
    "df.isnull().sum()"
   ]
  },
  {
   "cell_type": "code",
   "execution_count": null,
   "id": "aa2cc55d-5328-4496-b31a-9684bbd8ac41",
   "metadata": {},
   "outputs": [],
   "source": [
    "df1=df.dropna()"
   ]
  },
  {
   "cell_type": "code",
   "execution_count": null,
   "id": "354bb1e1-0350-419a-84cb-a3e0a03cd1ad",
   "metadata": {},
   "outputs": [],
   "source": [
    "df1.shape"
   ]
  },
  {
   "cell_type": "code",
   "execution_count": null,
   "id": "ca683203-cfbb-4b93-be4e-443afe017097",
   "metadata": {},
   "outputs": [],
   "source": [
    "df1.duplicated().sum()"
   ]
  },
  {
   "cell_type": "code",
   "execution_count": null,
   "id": "b6e0a6b3-2a1d-42b1-805a-feeeacf78cdf",
   "metadata": {},
   "outputs": [],
   "source": [
    "df1.iloc[0].genres"
   ]
  },
  {
   "cell_type": "code",
   "execution_count": null,
   "id": "c7715e79-9dac-433a-a54e-7aa6dc7c7e42",
   "metadata": {},
   "outputs": [],
   "source": [
    "df2 = df1.drop(columns=['adult'])"
   ]
  },
  {
   "cell_type": "code",
   "execution_count": null,
   "id": "12330eb6-c560-4776-80e4-49c16c0f707b",
   "metadata": {},
   "outputs": [],
   "source": [
    "df3 = df2[df2['original_language'].isin(['en'])]\n",
    "df3.shape"
   ]
  },
  {
   "cell_type": "code",
   "execution_count": null,
   "id": "dbbc4b7d-50bf-4456-8d92-9478b03939ff",
   "metadata": {},
   "outputs": [],
   "source": [
    "import ast\n",
    "def con(obj):\n",
    "    L=[]\n",
    "    for i in ast.literal_eval(obj):\n",
    "        L.append(i['name'])\n",
    "    return L\n",
    "\n",
    "def con_key(obj):\n",
    "    L=[]\n",
    "    for i in ast.literal_eval(obj):\n",
    "        L.append(i)\n",
    "    return L\n",
    "\n",
    "def con5(obj):\n",
    "    L=[]\n",
    "    counter=0\n",
    "    for i in ast.literal_eval(obj):\n",
    "        if counter !=5:\n",
    "            L.append(i['name'])\n",
    "            counter+=1\n",
    "    return L\n",
    "\n",
    "def findir(obj):\n",
    "    L=[]\n",
    "    for i in ast.literal_eval(obj):\n",
    "        if i['job'] == 'Director':\n",
    "            L.append(i['name'])\n",
    "            break\n",
    "    return L\n",
    "\n",
    "def findprod(obj):\n",
    "    L=[]\n",
    "    for i in ast.literal_eval(obj):\n",
    "        if i['job'] == 'Producer':\n",
    "            L.append(i['name'])\n",
    "    return L\n",
    "\n",
    "\n",
    "df3['genres']= df3['genres'].apply(con)\n",
    "df3['keywords']=df3['keywords'].apply(con_key)\n",
    "df3['cast']=df3['cast'].apply(con5)\n",
    "df3['Producers'] = df3['crew'].apply(findprod)\n",
    "df3['crew'] = df3['crew'].apply(findir)"
   ]
  },
  {
   "cell_type": "code",
   "execution_count": null,
   "id": "5f55bd0e-e5b9-4bae-bed5-5893d7c4be46",
   "metadata": {},
   "outputs": [],
   "source": [
    "def relyear(obj):\n",
    "    year = obj[:4]\n",
    "    return year"
   ]
  },
  {
   "cell_type": "code",
   "execution_count": null,
   "id": "4b26fe22-9d2d-47a0-9fc7-bbf1afe0875c",
   "metadata": {},
   "outputs": [],
   "source": [
    "df3['release_year']=df3['release_date'].apply(relyear)\n",
    "df3=df3.drop(columns = 'release_date')"
   ]
  },
  {
   "cell_type": "code",
   "execution_count": null,
   "id": "e7c5ee62-4e10-4b09-b534-45cfa5072fdc",
   "metadata": {},
   "outputs": [],
   "source": [
    "df3['overview'] = df3['overview'].apply(lambda x:x.split())"
   ]
  },
  {
   "cell_type": "code",
   "execution_count": null,
   "id": "ded84d3d-8455-490d-9b26-91e0d945084e",
   "metadata": {},
   "outputs": [],
   "source": [
    "df3.rename(columns={'crew': 'director'}, inplace = True)"
   ]
  },
  {
   "cell_type": "code",
   "execution_count": null,
   "id": "a6409b78-3a8c-4925-a821-e859c292512f",
   "metadata": {},
   "outputs": [],
   "source": [
    "df3.head()"
   ]
  },
  {
   "cell_type": "code",
   "execution_count": null,
   "id": "2f8b6e33-6590-4392-9a3d-5621014953b3",
   "metadata": {},
   "outputs": [],
   "source": [
    "df4 = df3.copy()"
   ]
  },
  {
   "cell_type": "code",
   "execution_count": null,
   "id": "9315394c-1676-470d-9e35-104b99f3c5c9",
   "metadata": {},
   "outputs": [],
   "source": [
    "df4['cast'] = df4['cast'].apply(lambda x:[i.replace(\" \",\"\") for i in x])\n",
    "df4['director'] = df4['director'].apply(lambda x:[i.replace(\" \",\"\") for i in x])\n",
    "df4['Producers'] = df4['Producers'].apply(lambda x:[i.replace(\" \",\"\") for i in x])\n",
    "df4['genres'] = df4['genres'].apply(lambda x:[i.replace(\" \",\"\") for i in x])\n",
    "df4['overview'] = df4['overview'].apply(lambda x:[i.replace(\".\",\"\") for i in x])\n",
    "df4['overview'] = df4['overview'].apply(lambda x:[i.replace(\",\",\"\") for i in x])\n",
    "df4['keywords'] = df4['keywords'].apply(lambda x:[i.replace(\" \",\"\") for i in x])"
   ]
  },
  {
   "cell_type": "code",
   "execution_count": null,
   "id": "9770dcbe-d222-45f5-bccb-984d711ebd75",
   "metadata": {},
   "outputs": [],
   "source": [
    "df4.head()"
   ]
  },
  {
   "cell_type": "code",
   "execution_count": null,
   "id": "6d5130b5-090b-4e91-94f5-b4f9eabad3ef",
   "metadata": {},
   "outputs": [],
   "source": [
    "df5 = df4.copy()"
   ]
  },
  {
   "cell_type": "code",
   "execution_count": null,
   "id": "d0407e5c-f25b-4caf-b6d3-4701dcddc554",
   "metadata": {},
   "outputs": [],
   "source": [
    "df5['tags'] = ''\n",
    "\n",
    "columns_to_concat = ['original_language', 'overview', 'genres', 'keywords', 'cast', 'director', 'Producers', 'release_year']\n",
    "\n",
    "for index, row in df5.iterrows():\n",
    "    combined_string = ''\n",
    "    for column in columns_to_concat:\n",
    "        value = row[column]\n",
    "        if isinstance(value, list):\n",
    "            value = ' '.join(map(str, value))\n",
    "        combined_string += str(value) + ' '\n",
    "    df5.at[index, 'tags'] = combined_string.strip()\n",
    "\n"
   ]
  },
  {
   "cell_type": "code",
   "execution_count": null,
   "id": "e8d00be7-0cd6-4974-8bf3-0e75b336d5c6",
   "metadata": {},
   "outputs": [],
   "source": [
    "df6 = df5[['movie_id' ,'title' ,'tags']]"
   ]
  },
  {
   "cell_type": "code",
   "execution_count": null,
   "id": "f761d9d5-05fd-4418-812a-67cb59ad30a8",
   "metadata": {},
   "outputs": [],
   "source": [
    "df6.head()"
   ]
  },
  {
   "cell_type": "code",
   "execution_count": null,
   "id": "f4a4ea43-318f-4cd7-9e97-0aedc6c45f51",
   "metadata": {
    "scrolled": true
   },
   "outputs": [],
   "source": [
    "df6['tags'] = df6['tags'].apply(lambda x:x.lower())"
   ]
  },
  {
   "cell_type": "code",
   "execution_count": null,
   "id": "7da5317b-921f-4184-9f64-f27fec0bca3e",
   "metadata": {},
   "outputs": [],
   "source": [
    "import nltk \n",
    "from nltk.stem.porter import PorterStemmer\n",
    "ps = PorterStemmer()\n"
   ]
  },
  {
   "cell_type": "code",
   "execution_count": null,
   "id": "4997c7f1-e0aa-4fb4-a3ea-d1882af6a94f",
   "metadata": {},
   "outputs": [],
   "source": [
    "def stem(text):\n",
    "    y =[]\n",
    "    for i in text.split():\n",
    "        y.append(ps.stem(i))\n",
    "    return \" \".join(y) "
   ]
  },
  {
   "cell_type": "code",
   "execution_count": null,
   "id": "25ebe81d-e583-48db-ba14-f37e4b9d4226",
   "metadata": {},
   "outputs": [],
   "source": [
    "df6['tags']=df6['tags'].apply(stem)"
   ]
  },
  {
   "cell_type": "code",
   "execution_count": null,
   "id": "6a658728-bde4-4abf-9ec4-03d4fd491109",
   "metadata": {},
   "outputs": [],
   "source": [
    "#Model "
   ]
  },
  {
   "cell_type": "code",
   "execution_count": null,
   "id": "43e6a4a3-c59e-4d2c-b623-d82f821cf94b",
   "metadata": {},
   "outputs": [],
   "source": [
    "from sklearn.feature_extraction.text import CountVectorizer\n",
    "cv = CountVectorizer(max_features = 10000, stop_words = 'english')"
   ]
  },
  {
   "cell_type": "code",
   "execution_count": null,
   "id": "d1854069-001c-46f4-9e92-2d6361acf0f6",
   "metadata": {},
   "outputs": [],
   "source": [
    "vector=cv.fit_transform(df6['tags']).toarray()"
   ]
  },
  {
   "cell_type": "code",
   "execution_count": null,
   "id": "43d7153b-9a52-48ef-aa48-b4ad800b4761",
   "metadata": {
    "scrolled": true
   },
   "outputs": [],
   "source": [
    "cv.get_feature_names_out()\n"
   ]
  },
  {
   "cell_type": "code",
   "execution_count": null,
   "id": "689f6b14-c47a-4f89-8d89-e9a10840b0d5",
   "metadata": {},
   "outputs": [],
   "source": [
    "from sklearn.metrics.pairwise import cosine_similarity"
   ]
  },
  {
   "cell_type": "code",
   "execution_count": null,
   "id": "13f853ac-55bd-438e-8d20-803b3aaec6b5",
   "metadata": {},
   "outputs": [],
   "source": [
    "# cosine_similarity(vector).shape\n",
    "\n",
    "#taking similiarity(angle) of each movie with other movie and giving "
   ]
  },
  {
   "cell_type": "code",
   "execution_count": null,
   "id": "2a82cc75-87da-478a-b937-656426290706",
   "metadata": {
    "scrolled": true
   },
   "outputs": [],
   "source": [
    "similarity = cosine_similarity(vector)"
   ]
  },
  {
   "cell_type": "code",
   "execution_count": null,
   "id": "46fb7e8c-0dd2-448e-aad8-b4d9b594b534",
   "metadata": {},
   "outputs": [],
   "source": [
    "similarity.shape"
   ]
  },
  {
   "cell_type": "code",
   "execution_count": null,
   "id": "4e10c41e-f4d0-478e-840d-347d8585acb2",
   "metadata": {},
   "outputs": [],
   "source": [
    "similarity[1]\n"
   ]
  },
  {
   "cell_type": "code",
   "execution_count": null,
   "id": "c98c1852-bcb9-4ce4-a6e1-e0886ec93f8c",
   "metadata": {},
   "outputs": [],
   "source": [
    "#model-calling"
   ]
  },
  {
   "cell_type": "code",
   "execution_count": null,
   "id": "d53192c9-f992-4f72-8fdc-8f9d90ebffcd",
   "metadata": {},
   "outputs": [],
   "source": [
    "def recommend(movie):\n",
    "    movie_index= df6[df6['title']== movie].index[0]\n",
    "    distances = similarity[movie_index]\n",
    "    movie_list = sorted(list(enumerate(distances)),reverse = True, key= lambda x:x[1])[1:6]\n",
    "\n",
    "    for i in movie_list:\n",
    "        print(results.iloc[i][1])\n",
    "    return\n",
    "\n"
   ]
  },
  {
   "cell_type": "code",
   "execution_count": null,
   "id": "13d2954d-9de5-49b4-a639-a2cd45466c9a",
   "metadata": {},
   "outputs": [],
   "source": [
    "recommend(\"Dead End\")"
   ]
  },
  {
   "cell_type": "code",
   "execution_count": null,
   "id": "85990aef-29f4-4e1d-a2b1-15339785847d",
   "metadata": {},
   "outputs": [],
   "source": []
  }
 ],
 "metadata": {
  "kernelspec": {
   "display_name": "Python (GPU)",
   "language": "python",
   "name": "gpu_env"
  },
  "language_info": {
   "codemirror_mode": {
    "name": "ipython",
    "version": 3
   },
   "file_extension": ".py",
   "mimetype": "text/x-python",
   "name": "python",
   "nbconvert_exporter": "python",
   "pygments_lexer": "ipython3",
   "version": "3.12.3"
  }
 },
 "nbformat": 4,
 "nbformat_minor": 5
}
