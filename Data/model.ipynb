{
 "cells": [
  {
   "cell_type": "code",
   "execution_count": 1,
   "id": "cc537036-b6c0-4a74-b875-f19a0fcb6509",
   "metadata": {},
   "outputs": [],
   "source": [
    "import pandas as pd\n",
    "import numpy as np"
   ]
  },
  {
   "cell_type": "code",
   "execution_count": null,
   "id": "9c8e2f75-beb9-46b7-87cd-2febc3c0341b",
   "metadata": {},
   "outputs": [],
   "source": [
    "show = pd.read_csv('movie_data.csv', lineterminator ='\\n')"
   ]
  },
  {
   "cell_type": "code",
   "execution_count": null,
   "id": "f4ad415f-7c90-41ee-9584-61b52a98ae51",
   "metadata": {
    "scrolled": true
   },
   "outputs": [],
   "source": [
    "pd.set_option('display.max_columns', None)\n",
    "pd.set_option('display.max_rows', None)"
   ]
  },
  {
   "cell_type": "code",
   "execution_count": null,
   "id": "f4ebd371-32ff-436a-b43d-e4afea93687c",
   "metadata": {},
   "outputs": [],
   "source": [
    "show"
   ]
  },
  {
   "cell_type": "code",
   "execution_count": null,
   "id": "63577599-be24-4a49-850a-10d18bc7425a",
   "metadata": {},
   "outputs": [],
   "source": [
    "show.shape"
   ]
  },
  {
   "cell_type": "code",
   "execution_count": null,
   "id": "ea0914f6-8cfa-4c2d-89b6-cdbe21a4b756",
   "metadata": {},
   "outputs": [],
   "source": [
    "show.groupby('original_language')['original_language'].agg('count')"
   ]
  },
  {
   "cell_type": "code",
   "execution_count": null,
   "id": "8d25a36f-7e64-4913-bd2a-2fb531ccff76",
   "metadata": {},
   "outputs": [],
   "source": [
    "show[show['original_language'] == 'hi']"
   ]
  }
 ],
 "metadata": {
  "kernelspec": {
   "display_name": "Python (GPU)",
   "language": "python",
   "name": "gpu_env"
  },
  "language_info": {
   "codemirror_mode": {
    "name": "ipython",
    "version": 3
   },
   "file_extension": ".py",
   "mimetype": "text/x-python",
   "name": "python",
   "nbconvert_exporter": "python",
   "pygments_lexer": "ipython3",
   "version": "3.12.3"
  }
 },
 "nbformat": 4,
 "nbformat_minor": 5
}
