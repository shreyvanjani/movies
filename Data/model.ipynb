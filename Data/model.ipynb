{
 "cells": [
  {
   "cell_type": "code",
   "execution_count": 1,
   "id": "cc537036-b6c0-4a74-b875-f19a0fcb6509",
   "metadata": {},
   "outputs": [],
   "source": [
    "import pandas as pd\n",
    "import numpy as np\n",
    "import json\n",
    "from pprint import pprint"
   ]
  },
  {
   "cell_type": "code",
   "execution_count": 2,
   "id": "9c8e2f75-beb9-46b7-87cd-2febc3c0341b",
   "metadata": {},
   "outputs": [],
   "source": [
    "show = pd.read_csv('movie_data.csv', lineterminator ='\\n')"
   ]
  },
  {
   "cell_type": "code",
   "execution_count": 3,
   "id": "f4ad415f-7c90-41ee-9584-61b52a98ae51",
   "metadata": {
    "scrolled": true
   },
   "outputs": [],
   "source": [
    "# pd.set_option('display.max_columns', None)\n",
    "# pd.set_option('display.max_rows', None)\n",
    "# np.set_printoptions(threshold = np.inf)\n",
    "# np.set_printoptions(linewidth = np.inf)"
   ]
  },
  {
   "cell_type": "code",
   "execution_count": 4,
   "id": "068d8e8c-c5e0-4eac-afab-2ceb40b1f1f8",
   "metadata": {},
   "outputs": [],
   "source": [
    "np.set_printoptions()"
   ]
  },
  {
   "cell_type": "code",
   "execution_count": 5,
   "id": "f4ebd371-32ff-436a-b43d-e4afea93687c",
   "metadata": {},
   "outputs": [],
   "source": [
    "# show.head(3)"
   ]
  },
  {
   "cell_type": "code",
   "execution_count": 6,
   "id": "5f7730b7-4f11-4596-92a2-3d464c2d5da1",
   "metadata": {},
   "outputs": [],
   "source": [
    "# show.info()"
   ]
  },
  {
   "cell_type": "code",
   "execution_count": 7,
   "id": "449445d1-51f8-4366-afff-48816f6cf5b3",
   "metadata": {},
   "outputs": [],
   "source": [
    "# 'adult',\n",
    "# 'movie_id',\n",
    "# 'original_language',\n",
    "# 'overview',\n",
    "# 'release_date',\n",
    "# 'title',\n",
    "# 'genre',\n",
    "# 'keywords',\n",
    "# 'cast',\n",
    "# 'crew'\n",
    "# #removing rest all coloumns "
   ]
  },
  {
   "cell_type": "code",
   "execution_count": 8,
   "id": "63577599-be24-4a49-850a-10d18bc7425a",
   "metadata": {},
   "outputs": [
    {
     "data": {
      "text/plain": [
       "(15871, 18)"
      ]
     },
     "execution_count": 8,
     "metadata": {},
     "output_type": "execute_result"
    }
   ],
   "source": [
    "show.shape"
   ]
  },
  {
   "cell_type": "code",
   "execution_count": 9,
   "id": "ea0914f6-8cfa-4c2d-89b6-cdbe21a4b756",
   "metadata": {
    "scrolled": true
   },
   "outputs": [
    {
     "data": {
      "text/html": [
       "<div>\n",
       "<style scoped>\n",
       "    .dataframe tbody tr th:only-of-type {\n",
       "        vertical-align: middle;\n",
       "    }\n",
       "\n",
       "    .dataframe tbody tr th {\n",
       "        vertical-align: top;\n",
       "    }\n",
       "\n",
       "    .dataframe thead th {\n",
       "        text-align: right;\n",
       "    }\n",
       "</style>\n",
       "<table border=\"1\" class=\"dataframe\">\n",
       "  <thead>\n",
       "    <tr style=\"text-align: right;\">\n",
       "      <th></th>\n",
       "      <th>original_language</th>\n",
       "      <th>count</th>\n",
       "    </tr>\n",
       "  </thead>\n",
       "  <tbody>\n",
       "    <tr>\n",
       "      <th>0</th>\n",
       "      <td>af</td>\n",
       "      <td>1</td>\n",
       "    </tr>\n",
       "    <tr>\n",
       "      <th>17</th>\n",
       "      <td>he</td>\n",
       "      <td>1</td>\n",
       "    </tr>\n",
       "    <tr>\n",
       "      <th>16</th>\n",
       "      <td>gl</td>\n",
       "      <td>1</td>\n",
       "    </tr>\n",
       "    <tr>\n",
       "      <th>25</th>\n",
       "      <td>km</td>\n",
       "      <td>1</td>\n",
       "    </tr>\n",
       "    <tr>\n",
       "      <th>27</th>\n",
       "      <td>la</td>\n",
       "      <td>1</td>\n",
       "    </tr>\n",
       "    <tr>\n",
       "      <th>28</th>\n",
       "      <td>ml</td>\n",
       "      <td>1</td>\n",
       "    </tr>\n",
       "    <tr>\n",
       "      <th>11</th>\n",
       "      <td>et</td>\n",
       "      <td>1</td>\n",
       "    </tr>\n",
       "    <tr>\n",
       "      <th>29</th>\n",
       "      <td>nb</td>\n",
       "      <td>1</td>\n",
       "    </tr>\n",
       "    <tr>\n",
       "      <th>3</th>\n",
       "      <td>bs</td>\n",
       "      <td>1</td>\n",
       "    </tr>\n",
       "    <tr>\n",
       "      <th>2</th>\n",
       "      <td>bn</td>\n",
       "      <td>1</td>\n",
       "    </tr>\n",
       "    <tr>\n",
       "      <th>36</th>\n",
       "      <td>sh</td>\n",
       "      <td>1</td>\n",
       "    </tr>\n",
       "    <tr>\n",
       "      <th>20</th>\n",
       "      <td>hy</td>\n",
       "      <td>1</td>\n",
       "    </tr>\n",
       "    <tr>\n",
       "      <th>34</th>\n",
       "      <td>ro</td>\n",
       "      <td>2</td>\n",
       "    </tr>\n",
       "    <tr>\n",
       "      <th>42</th>\n",
       "      <td>uk</td>\n",
       "      <td>2</td>\n",
       "    </tr>\n",
       "    <tr>\n",
       "      <th>12</th>\n",
       "      <td>eu</td>\n",
       "      <td>2</td>\n",
       "    </tr>\n",
       "    <tr>\n",
       "      <th>37</th>\n",
       "      <td>sr</td>\n",
       "      <td>3</td>\n",
       "    </tr>\n",
       "    <tr>\n",
       "      <th>39</th>\n",
       "      <td>te</td>\n",
       "      <td>3</td>\n",
       "    </tr>\n",
       "    <tr>\n",
       "      <th>1</th>\n",
       "      <td>ar</td>\n",
       "      <td>3</td>\n",
       "    </tr>\n",
       "    <tr>\n",
       "      <th>8</th>\n",
       "      <td>el</td>\n",
       "      <td>4</td>\n",
       "    </tr>\n",
       "    <tr>\n",
       "      <th>5</th>\n",
       "      <td>cs</td>\n",
       "      <td>4</td>\n",
       "    </tr>\n",
       "    <tr>\n",
       "      <th>22</th>\n",
       "      <td>is</td>\n",
       "      <td>4</td>\n",
       "    </tr>\n",
       "    <tr>\n",
       "      <th>21</th>\n",
       "      <td>id</td>\n",
       "      <td>7</td>\n",
       "    </tr>\n",
       "    <tr>\n",
       "      <th>14</th>\n",
       "      <td>fi</td>\n",
       "      <td>7</td>\n",
       "    </tr>\n",
       "    <tr>\n",
       "      <th>13</th>\n",
       "      <td>fa</td>\n",
       "      <td>8</td>\n",
       "    </tr>\n",
       "    <tr>\n",
       "      <th>19</th>\n",
       "      <td>hu</td>\n",
       "      <td>8</td>\n",
       "    </tr>\n",
       "    <tr>\n",
       "      <th>40</th>\n",
       "      <td>th</td>\n",
       "      <td>11</td>\n",
       "    </tr>\n",
       "    <tr>\n",
       "      <th>41</th>\n",
       "      <td>tr</td>\n",
       "      <td>14</td>\n",
       "    </tr>\n",
       "    <tr>\n",
       "      <th>30</th>\n",
       "      <td>nl</td>\n",
       "      <td>14</td>\n",
       "    </tr>\n",
       "    <tr>\n",
       "      <th>32</th>\n",
       "      <td>pl</td>\n",
       "      <td>21</td>\n",
       "    </tr>\n",
       "    <tr>\n",
       "      <th>31</th>\n",
       "      <td>no</td>\n",
       "      <td>24</td>\n",
       "    </tr>\n",
       "    <tr>\n",
       "      <th>6</th>\n",
       "      <td>da</td>\n",
       "      <td>35</td>\n",
       "    </tr>\n",
       "    <tr>\n",
       "      <th>38</th>\n",
       "      <td>sv</td>\n",
       "      <td>41</td>\n",
       "    </tr>\n",
       "    <tr>\n",
       "      <th>33</th>\n",
       "      <td>pt</td>\n",
       "      <td>46</td>\n",
       "    </tr>\n",
       "    <tr>\n",
       "      <th>35</th>\n",
       "      <td>ru</td>\n",
       "      <td>52</td>\n",
       "    </tr>\n",
       "    <tr>\n",
       "      <th>4</th>\n",
       "      <td>cn</td>\n",
       "      <td>68</td>\n",
       "    </tr>\n",
       "    <tr>\n",
       "      <th>43</th>\n",
       "      <td>zh</td>\n",
       "      <td>69</td>\n",
       "    </tr>\n",
       "    <tr>\n",
       "      <th>26</th>\n",
       "      <td>ko</td>\n",
       "      <td>96</td>\n",
       "    </tr>\n",
       "    <tr>\n",
       "      <th>7</th>\n",
       "      <td>de</td>\n",
       "      <td>113</td>\n",
       "    </tr>\n",
       "    <tr>\n",
       "      <th>10</th>\n",
       "      <td>es</td>\n",
       "      <td>218</td>\n",
       "    </tr>\n",
       "    <tr>\n",
       "      <th>24</th>\n",
       "      <td>ja</td>\n",
       "      <td>307</td>\n",
       "    </tr>\n",
       "    <tr>\n",
       "      <th>23</th>\n",
       "      <td>it</td>\n",
       "      <td>432</td>\n",
       "    </tr>\n",
       "    <tr>\n",
       "      <th>15</th>\n",
       "      <td>fr</td>\n",
       "      <td>683</td>\n",
       "    </tr>\n",
       "    <tr>\n",
       "      <th>18</th>\n",
       "      <td>hi</td>\n",
       "      <td>5918</td>\n",
       "    </tr>\n",
       "    <tr>\n",
       "      <th>9</th>\n",
       "      <td>en</td>\n",
       "      <td>7640</td>\n",
       "    </tr>\n",
       "  </tbody>\n",
       "</table>\n",
       "</div>"
      ],
      "text/plain": [
       "   original_language  count\n",
       "0                 af      1\n",
       "17                he      1\n",
       "16                gl      1\n",
       "25                km      1\n",
       "27                la      1\n",
       "28                ml      1\n",
       "11                et      1\n",
       "29                nb      1\n",
       "3                 bs      1\n",
       "2                 bn      1\n",
       "36                sh      1\n",
       "20                hy      1\n",
       "34                ro      2\n",
       "42                uk      2\n",
       "12                eu      2\n",
       "37                sr      3\n",
       "39                te      3\n",
       "1                 ar      3\n",
       "8                 el      4\n",
       "5                 cs      4\n",
       "22                is      4\n",
       "21                id      7\n",
       "14                fi      7\n",
       "13                fa      8\n",
       "19                hu      8\n",
       "40                th     11\n",
       "41                tr     14\n",
       "30                nl     14\n",
       "32                pl     21\n",
       "31                no     24\n",
       "6                 da     35\n",
       "38                sv     41\n",
       "33                pt     46\n",
       "35                ru     52\n",
       "4                 cn     68\n",
       "43                zh     69\n",
       "26                ko     96\n",
       "7                 de    113\n",
       "10                es    218\n",
       "24                ja    307\n",
       "23                it    432\n",
       "15                fr    683\n",
       "18                hi   5918\n",
       "9                 en   7640"
      ]
     },
     "execution_count": 9,
     "metadata": {},
     "output_type": "execute_result"
    }
   ],
   "source": [
    "show.groupby('original_language')['original_language'].count().reset_index(name='count').sort_values(by='count')"
   ]
  },
  {
   "cell_type": "code",
   "execution_count": 10,
   "id": "8d25a36f-7e64-4913-bd2a-2fb531ccff76",
   "metadata": {},
   "outputs": [],
   "source": [
    "# show[show['original_language'] == 'hi']"
   ]
  },
  {
   "cell_type": "code",
   "execution_count": 11,
   "id": "335ce987-4141-4b00-8119-70584daadbbb",
   "metadata": {},
   "outputs": [],
   "source": [
    "df= show[['adult',\n",
    "'movie_id',\n",
    "'original_language',\n",
    "'overview',\n",
    "'release_date',\n",
    "'title',\n",
    "'genres',\n",
    "'keywords',\n",
    "'cast',\n",
    "'crew',\n",
    "'poster_path']]"
   ]
  },
  {
   "cell_type": "code",
   "execution_count": 12,
   "id": "f7c99abe-4887-41c8-9f7c-ff963d2be4fd",
   "metadata": {},
   "outputs": [
    {
     "name": "stdout",
     "output_type": "stream",
     "text": [
      "<class 'pandas.core.frame.DataFrame'>\n",
      "RangeIndex: 15871 entries, 0 to 15870\n",
      "Data columns (total 11 columns):\n",
      " #   Column             Non-Null Count  Dtype \n",
      "---  ------             --------------  ----- \n",
      " 0   adult              15871 non-null  bool  \n",
      " 1   movie_id           15871 non-null  int64 \n",
      " 2   original_language  15871 non-null  object\n",
      " 3   overview           15655 non-null  object\n",
      " 4   release_date       15871 non-null  object\n",
      " 5   title              15871 non-null  object\n",
      " 6   genres             15871 non-null  object\n",
      " 7   keywords           15871 non-null  object\n",
      " 8   cast               15871 non-null  object\n",
      " 9   crew               15871 non-null  object\n",
      " 10  poster_path        15219 non-null  object\n",
      "dtypes: bool(1), int64(1), object(9)\n",
      "memory usage: 1.2+ MB\n"
     ]
    }
   ],
   "source": [
    "df.info()\n"
   ]
  },
  {
   "cell_type": "code",
   "execution_count": 13,
   "id": "0543028c-4dda-4fb5-a970-6c0b2998ad26",
   "metadata": {},
   "outputs": [],
   "source": [
    "#desired data format\n",
    "#movie_id, title , tag "
   ]
  },
  {
   "cell_type": "code",
   "execution_count": 14,
   "id": "159e180c-78b6-4f81-9faa-62112285efc7",
   "metadata": {},
   "outputs": [
    {
     "data": {
      "text/plain": [
       "adult                  0\n",
       "movie_id               0\n",
       "original_language      0\n",
       "overview             216\n",
       "release_date           0\n",
       "title                  0\n",
       "genres                 0\n",
       "keywords               0\n",
       "cast                   0\n",
       "crew                   0\n",
       "poster_path          652\n",
       "dtype: int64"
      ]
     },
     "execution_count": 14,
     "metadata": {},
     "output_type": "execute_result"
    }
   ],
   "source": [
    "df.isnull().sum()"
   ]
  },
  {
   "cell_type": "code",
   "execution_count": 15,
   "id": "aa2cc55d-5328-4496-b31a-9684bbd8ac41",
   "metadata": {},
   "outputs": [],
   "source": [
    "df1=df.dropna()"
   ]
  },
  {
   "cell_type": "code",
   "execution_count": 16,
   "id": "354bb1e1-0350-419a-84cb-a3e0a03cd1ad",
   "metadata": {},
   "outputs": [
    {
     "data": {
      "text/plain": [
       "(15064, 11)"
      ]
     },
     "execution_count": 16,
     "metadata": {},
     "output_type": "execute_result"
    }
   ],
   "source": [
    "df1.shape"
   ]
  },
  {
   "cell_type": "code",
   "execution_count": 17,
   "id": "ca683203-cfbb-4b93-be4e-443afe017097",
   "metadata": {},
   "outputs": [
    {
     "data": {
      "text/plain": [
       "0"
      ]
     },
     "execution_count": 17,
     "metadata": {},
     "output_type": "execute_result"
    }
   ],
   "source": [
    "df1.duplicated().sum()"
   ]
  },
  {
   "cell_type": "code",
   "execution_count": 18,
   "id": "b6e0a6b3-2a1d-42b1-805a-feeeacf78cdf",
   "metadata": {},
   "outputs": [
    {
     "data": {
      "text/plain": [
       "\"[{'id': 28, 'name': 'Action'}, {'id': 35, 'name': 'Comedy'}, {'id': 80, 'name': 'Crime'}]\""
      ]
     },
     "execution_count": 18,
     "metadata": {},
     "output_type": "execute_result"
    }
   ],
   "source": [
    "df1.iloc[0].genres"
   ]
  },
  {
   "cell_type": "code",
   "execution_count": 19,
   "id": "c7715e79-9dac-433a-a54e-7aa6dc7c7e42",
   "metadata": {},
   "outputs": [],
   "source": [
    "df2 = df1.drop(columns=['adult'])"
   ]
  },
  {
   "cell_type": "code",
   "execution_count": 20,
   "id": "12330eb6-c560-4776-80e4-49c16c0f707b",
   "metadata": {},
   "outputs": [
    {
     "data": {
      "text/plain": [
       "(12752, 10)"
      ]
     },
     "execution_count": 20,
     "metadata": {},
     "output_type": "execute_result"
    }
   ],
   "source": [
    "df3 = df2[df2['original_language'].isin(['en','hi'])]\n",
    "df3.shape"
   ]
  },
  {
   "cell_type": "code",
   "execution_count": 21,
   "id": "dbbc4b7d-50bf-4456-8d92-9478b03939ff",
   "metadata": {},
   "outputs": [
    {
     "name": "stderr",
     "output_type": "stream",
     "text": [
      "C:\\Users\\Admin\\AppData\\Local\\Temp\\ipykernel_4252\\2251578175.py:39: SettingWithCopyWarning: \n",
      "A value is trying to be set on a copy of a slice from a DataFrame.\n",
      "Try using .loc[row_indexer,col_indexer] = value instead\n",
      "\n",
      "See the caveats in the documentation: https://pandas.pydata.org/pandas-docs/stable/user_guide/indexing.html#returning-a-view-versus-a-copy\n",
      "  df3['genres']= df3['genres'].apply(con)\n",
      "C:\\Users\\Admin\\AppData\\Local\\Temp\\ipykernel_4252\\2251578175.py:40: SettingWithCopyWarning: \n",
      "A value is trying to be set on a copy of a slice from a DataFrame.\n",
      "Try using .loc[row_indexer,col_indexer] = value instead\n",
      "\n",
      "See the caveats in the documentation: https://pandas.pydata.org/pandas-docs/stable/user_guide/indexing.html#returning-a-view-versus-a-copy\n",
      "  df3['keywords']=df3['keywords'].apply(con_key)\n",
      "C:\\Users\\Admin\\AppData\\Local\\Temp\\ipykernel_4252\\2251578175.py:41: SettingWithCopyWarning: \n",
      "A value is trying to be set on a copy of a slice from a DataFrame.\n",
      "Try using .loc[row_indexer,col_indexer] = value instead\n",
      "\n",
      "See the caveats in the documentation: https://pandas.pydata.org/pandas-docs/stable/user_guide/indexing.html#returning-a-view-versus-a-copy\n",
      "  df3['cast']=df3['cast'].apply(con5)\n",
      "C:\\Users\\Admin\\AppData\\Local\\Temp\\ipykernel_4252\\2251578175.py:42: SettingWithCopyWarning: \n",
      "A value is trying to be set on a copy of a slice from a DataFrame.\n",
      "Try using .loc[row_indexer,col_indexer] = value instead\n",
      "\n",
      "See the caveats in the documentation: https://pandas.pydata.org/pandas-docs/stable/user_guide/indexing.html#returning-a-view-versus-a-copy\n",
      "  df3['Producers'] = df3['crew'].apply(findprod)\n",
      "C:\\Users\\Admin\\AppData\\Local\\Temp\\ipykernel_4252\\2251578175.py:43: SettingWithCopyWarning: \n",
      "A value is trying to be set on a copy of a slice from a DataFrame.\n",
      "Try using .loc[row_indexer,col_indexer] = value instead\n",
      "\n",
      "See the caveats in the documentation: https://pandas.pydata.org/pandas-docs/stable/user_guide/indexing.html#returning-a-view-versus-a-copy\n",
      "  df3['crew'] = df3['crew'].apply(findir)\n"
     ]
    }
   ],
   "source": [
    "import ast\n",
    "def con(obj):\n",
    "    L=[]\n",
    "    for i in ast.literal_eval(obj):\n",
    "        L.append(i['name'])\n",
    "    return L\n",
    "\n",
    "def con_key(obj):\n",
    "    L=[]\n",
    "    for i in ast.literal_eval(obj):\n",
    "        L.append(i)\n",
    "    return L\n",
    "\n",
    "def con5(obj):\n",
    "    L=[]\n",
    "    counter=0\n",
    "    for i in ast.literal_eval(obj):\n",
    "        if counter !=5:\n",
    "            L.append(i['name'])\n",
    "            counter+=1\n",
    "    return L\n",
    "\n",
    "def findir(obj):\n",
    "    L=[]\n",
    "    for i in ast.literal_eval(obj):\n",
    "        if i['job'] == 'Director':\n",
    "            L.append(i['name'])\n",
    "            break\n",
    "    return L\n",
    "\n",
    "def findprod(obj):\n",
    "    L=[]\n",
    "    for i in ast.literal_eval(obj):\n",
    "        if i['job'] == 'Producer':\n",
    "            L.append(i['name'])\n",
    "    return L\n",
    "\n",
    "\n",
    "df3['genres']= df3['genres'].apply(con)\n",
    "df3['keywords']=df3['keywords'].apply(con_key)\n",
    "df3['cast']=df3['cast'].apply(con5)\n",
    "df3['Producers'] = df3['crew'].apply(findprod)\n",
    "df3['crew'] = df3['crew'].apply(findir)"
   ]
  },
  {
   "cell_type": "code",
   "execution_count": 22,
   "id": "5f55bd0e-e5b9-4bae-bed5-5893d7c4be46",
   "metadata": {},
   "outputs": [],
   "source": [
    "def relyear(obj):\n",
    "    year = obj[:4]\n",
    "    return year"
   ]
  },
  {
   "cell_type": "code",
   "execution_count": 23,
   "id": "4b26fe22-9d2d-47a0-9fc7-bbf1afe0875c",
   "metadata": {},
   "outputs": [
    {
     "name": "stderr",
     "output_type": "stream",
     "text": [
      "C:\\Users\\Admin\\AppData\\Local\\Temp\\ipykernel_4252\\3634362123.py:1: SettingWithCopyWarning: \n",
      "A value is trying to be set on a copy of a slice from a DataFrame.\n",
      "Try using .loc[row_indexer,col_indexer] = value instead\n",
      "\n",
      "See the caveats in the documentation: https://pandas.pydata.org/pandas-docs/stable/user_guide/indexing.html#returning-a-view-versus-a-copy\n",
      "  df3['release_year']=df3['release_date'].apply(relyear)\n"
     ]
    }
   ],
   "source": [
    "df3['release_year']=df3['release_date'].apply(relyear)\n",
    "df3=df3.drop(columns = 'release_date')"
   ]
  },
  {
   "cell_type": "code",
   "execution_count": 24,
   "id": "e7c5ee62-4e10-4b09-b534-45cfa5072fdc",
   "metadata": {},
   "outputs": [],
   "source": [
    "df3['overview'] = df3['overview'].apply(lambda x:x.split())"
   ]
  },
  {
   "cell_type": "code",
   "execution_count": 25,
   "id": "ded84d3d-8455-490d-9b26-91e0d945084e",
   "metadata": {},
   "outputs": [],
   "source": [
    "df3.rename(columns={'crew': 'director'}, inplace = True)"
   ]
  },
  {
   "cell_type": "code",
   "execution_count": 26,
   "id": "a6409b78-3a8c-4925-a821-e859c292512f",
   "metadata": {},
   "outputs": [
    {
     "data": {
      "text/html": [
       "<div>\n",
       "<style scoped>\n",
       "    .dataframe tbody tr th:only-of-type {\n",
       "        vertical-align: middle;\n",
       "    }\n",
       "\n",
       "    .dataframe tbody tr th {\n",
       "        vertical-align: top;\n",
       "    }\n",
       "\n",
       "    .dataframe thead th {\n",
       "        text-align: right;\n",
       "    }\n",
       "</style>\n",
       "<table border=\"1\" class=\"dataframe\">\n",
       "  <thead>\n",
       "    <tr style=\"text-align: right;\">\n",
       "      <th></th>\n",
       "      <th>movie_id</th>\n",
       "      <th>original_language</th>\n",
       "      <th>overview</th>\n",
       "      <th>title</th>\n",
       "      <th>genres</th>\n",
       "      <th>keywords</th>\n",
       "      <th>cast</th>\n",
       "      <th>director</th>\n",
       "      <th>poster_path</th>\n",
       "      <th>Producers</th>\n",
       "      <th>release_year</th>\n",
       "    </tr>\n",
       "  </thead>\n",
       "  <tbody>\n",
       "    <tr>\n",
       "      <th>0</th>\n",
       "      <td>783461</td>\n",
       "      <td>hi</td>\n",
       "      <td>[When, her, boyfriend, loses, a, mobster's, ca...</td>\n",
       "      <td>Looop Lapeta</td>\n",
       "      <td>[Action, Comedy, Crime]</td>\n",
       "      <td>[remake, looop lapeta, saade saati]</td>\n",
       "      <td>[Taapsee Pannu, Tahir Raj Bhasin, Shreya Dhanw...</td>\n",
       "      <td>[Aakash Bhatia]</td>\n",
       "      <td>/onGdT8sYi89drvSJyEJnft97rOq.jpg</td>\n",
       "      <td>[Tanuj Garg, Atul Kasbekar, Simran Sawhney, Aa...</td>\n",
       "      <td>2022</td>\n",
       "    </tr>\n",
       "    <tr>\n",
       "      <th>1</th>\n",
       "      <td>592508</td>\n",
       "      <td>hi</td>\n",
       "      <td>[A, fearless,, faithful, albeit, slightly, for...</td>\n",
       "      <td>Sooryavanshi</td>\n",
       "      <td>[Action, Crime, Thriller]</td>\n",
       "      <td>[police, sequel, police officer, cop universe]</td>\n",
       "      <td>[Akshay Kumar, Katrina Kaif, Ajay Devgn, Ranve...</td>\n",
       "      <td>[Rohit Shetty]</td>\n",
       "      <td>/8p3mhjyLjHKtaAv8tFKfvEBtir0.jpg</td>\n",
       "      <td>[Akshay Kumar, Karan Johar, Hiroo Johar, Rohit...</td>\n",
       "      <td>2021</td>\n",
       "    </tr>\n",
       "    <tr>\n",
       "      <th>2</th>\n",
       "      <td>864692</td>\n",
       "      <td>hi</td>\n",
       "      <td>[A, soldier, caught, by, enemies, and, presume...</td>\n",
       "      <td>Pathaan</td>\n",
       "      <td>[Action, Adventure, Thriller]</td>\n",
       "      <td>[spy, fake death, spy thriller, spy universe, ...</td>\n",
       "      <td>[Shah Rukh Khan, Deepika Padukone, John Abraha...</td>\n",
       "      <td>[Siddharth Anand]</td>\n",
       "      <td>/m1b9toKYyCujHuLoXB5GSDunO9e.jpg</td>\n",
       "      <td>[Aditya Chopra]</td>\n",
       "      <td>2023</td>\n",
       "    </tr>\n",
       "    <tr>\n",
       "      <th>3</th>\n",
       "      <td>1018228</td>\n",
       "      <td>hi</td>\n",
       "      <td>[A, flight, attendant, and, her, boyfriend, mu...</td>\n",
       "      <td>Chor Nikal Ke Bhaga</td>\n",
       "      <td>[Crime, Thriller]</td>\n",
       "      <td>[heist, airplane hijacking]</td>\n",
       "      <td>[Yami Gautam, Sunny Kaushal, Sharad Kelkar, In...</td>\n",
       "      <td>[Ajay Singh]</td>\n",
       "      <td>/1MIDERaEUMw1rYDM99tGZPY80Ap.jpg</td>\n",
       "      <td>[Dinesh Vijan, Amar Kaushik]</td>\n",
       "      <td>2023</td>\n",
       "    </tr>\n",
       "    <tr>\n",
       "      <th>4</th>\n",
       "      <td>20453</td>\n",
       "      <td>hi</td>\n",
       "      <td>[Rascal., Joker., Dreamer., Genius..., You've,...</td>\n",
       "      <td>3 Idiots</td>\n",
       "      <td>[Drama, Comedy]</td>\n",
       "      <td>[suicide, suicide attempt, college, musical, s...</td>\n",
       "      <td>[Aamir Khan, R. Madhavan, Sharman Joshi, Karee...</td>\n",
       "      <td>[Rajkumar Hirani]</td>\n",
       "      <td>/66A9MqXOyVFCssoloscw79z8Tew.jpg</td>\n",
       "      <td>[Vidhu Vinod Chopra]</td>\n",
       "      <td>2009</td>\n",
       "    </tr>\n",
       "  </tbody>\n",
       "</table>\n",
       "</div>"
      ],
      "text/plain": [
       "   movie_id original_language  \\\n",
       "0    783461                hi   \n",
       "1    592508                hi   \n",
       "2    864692                hi   \n",
       "3   1018228                hi   \n",
       "4     20453                hi   \n",
       "\n",
       "                                            overview                title  \\\n",
       "0  [When, her, boyfriend, loses, a, mobster's, ca...         Looop Lapeta   \n",
       "1  [A, fearless,, faithful, albeit, slightly, for...         Sooryavanshi   \n",
       "2  [A, soldier, caught, by, enemies, and, presume...              Pathaan   \n",
       "3  [A, flight, attendant, and, her, boyfriend, mu...  Chor Nikal Ke Bhaga   \n",
       "4  [Rascal., Joker., Dreamer., Genius..., You've,...             3 Idiots   \n",
       "\n",
       "                          genres  \\\n",
       "0        [Action, Comedy, Crime]   \n",
       "1      [Action, Crime, Thriller]   \n",
       "2  [Action, Adventure, Thriller]   \n",
       "3              [Crime, Thriller]   \n",
       "4                [Drama, Comedy]   \n",
       "\n",
       "                                            keywords  \\\n",
       "0                [remake, looop lapeta, saade saati]   \n",
       "1     [police, sequel, police officer, cop universe]   \n",
       "2  [spy, fake death, spy thriller, spy universe, ...   \n",
       "3                        [heist, airplane hijacking]   \n",
       "4  [suicide, suicide attempt, college, musical, s...   \n",
       "\n",
       "                                                cast           director  \\\n",
       "0  [Taapsee Pannu, Tahir Raj Bhasin, Shreya Dhanw...    [Aakash Bhatia]   \n",
       "1  [Akshay Kumar, Katrina Kaif, Ajay Devgn, Ranve...     [Rohit Shetty]   \n",
       "2  [Shah Rukh Khan, Deepika Padukone, John Abraha...  [Siddharth Anand]   \n",
       "3  [Yami Gautam, Sunny Kaushal, Sharad Kelkar, In...       [Ajay Singh]   \n",
       "4  [Aamir Khan, R. Madhavan, Sharman Joshi, Karee...  [Rajkumar Hirani]   \n",
       "\n",
       "                        poster_path  \\\n",
       "0  /onGdT8sYi89drvSJyEJnft97rOq.jpg   \n",
       "1  /8p3mhjyLjHKtaAv8tFKfvEBtir0.jpg   \n",
       "2  /m1b9toKYyCujHuLoXB5GSDunO9e.jpg   \n",
       "3  /1MIDERaEUMw1rYDM99tGZPY80Ap.jpg   \n",
       "4  /66A9MqXOyVFCssoloscw79z8Tew.jpg   \n",
       "\n",
       "                                           Producers release_year  \n",
       "0  [Tanuj Garg, Atul Kasbekar, Simran Sawhney, Aa...         2022  \n",
       "1  [Akshay Kumar, Karan Johar, Hiroo Johar, Rohit...         2021  \n",
       "2                                    [Aditya Chopra]         2023  \n",
       "3                       [Dinesh Vijan, Amar Kaushik]         2023  \n",
       "4                               [Vidhu Vinod Chopra]         2009  "
      ]
     },
     "execution_count": 26,
     "metadata": {},
     "output_type": "execute_result"
    }
   ],
   "source": [
    "df3.head()"
   ]
  },
  {
   "cell_type": "code",
   "execution_count": 27,
   "id": "2f8b6e33-6590-4392-9a3d-5621014953b3",
   "metadata": {},
   "outputs": [],
   "source": [
    "df4 = df3.copy()"
   ]
  },
  {
   "cell_type": "code",
   "execution_count": 28,
   "id": "9315394c-1676-470d-9e35-104b99f3c5c9",
   "metadata": {},
   "outputs": [],
   "source": [
    "df4['cast'] = df4['cast'].apply(lambda x:[i.replace(\" \",\"\") for i in x])\n",
    "df4['director'] = df4['director'].apply(lambda x:[i.replace(\" \",\"\") for i in x])\n",
    "df4['Producers'] = df4['Producers'].apply(lambda x:[i.replace(\" \",\"\") for i in x])\n",
    "df4['genres'] = df4['genres'].apply(lambda x:[i.replace(\" \",\"\") for i in x])\n",
    "df4['overview'] = df4['overview'].apply(lambda x:[i.replace(\".\",\"\") for i in x])\n",
    "df4['overview'] = df4['overview'].apply(lambda x:[i.replace(\",\",\"\") for i in x])\n",
    "df4['keywords'] = df4['keywords'].apply(lambda x:[i.replace(\" \",\"\") for i in x])"
   ]
  },
  {
   "cell_type": "code",
   "execution_count": 29,
   "id": "9770dcbe-d222-45f5-bccb-984d711ebd75",
   "metadata": {},
   "outputs": [
    {
     "data": {
      "text/html": [
       "<div>\n",
       "<style scoped>\n",
       "    .dataframe tbody tr th:only-of-type {\n",
       "        vertical-align: middle;\n",
       "    }\n",
       "\n",
       "    .dataframe tbody tr th {\n",
       "        vertical-align: top;\n",
       "    }\n",
       "\n",
       "    .dataframe thead th {\n",
       "        text-align: right;\n",
       "    }\n",
       "</style>\n",
       "<table border=\"1\" class=\"dataframe\">\n",
       "  <thead>\n",
       "    <tr style=\"text-align: right;\">\n",
       "      <th></th>\n",
       "      <th>movie_id</th>\n",
       "      <th>original_language</th>\n",
       "      <th>overview</th>\n",
       "      <th>title</th>\n",
       "      <th>genres</th>\n",
       "      <th>keywords</th>\n",
       "      <th>cast</th>\n",
       "      <th>director</th>\n",
       "      <th>poster_path</th>\n",
       "      <th>Producers</th>\n",
       "      <th>release_year</th>\n",
       "    </tr>\n",
       "  </thead>\n",
       "  <tbody>\n",
       "    <tr>\n",
       "      <th>0</th>\n",
       "      <td>783461</td>\n",
       "      <td>hi</td>\n",
       "      <td>[When, her, boyfriend, loses, a, mobster's, ca...</td>\n",
       "      <td>Looop Lapeta</td>\n",
       "      <td>[Action, Comedy, Crime]</td>\n",
       "      <td>[remake, loooplapeta, saadesaati]</td>\n",
       "      <td>[TaapseePannu, TahirRajBhasin, ShreyaDhanwanth...</td>\n",
       "      <td>[AakashBhatia]</td>\n",
       "      <td>/onGdT8sYi89drvSJyEJnft97rOq.jpg</td>\n",
       "      <td>[TanujGarg, AtulKasbekar, SimranSawhney, Aayus...</td>\n",
       "      <td>2022</td>\n",
       "    </tr>\n",
       "    <tr>\n",
       "      <th>1</th>\n",
       "      <td>592508</td>\n",
       "      <td>hi</td>\n",
       "      <td>[A, fearless, faithful, albeit, slightly, forg...</td>\n",
       "      <td>Sooryavanshi</td>\n",
       "      <td>[Action, Crime, Thriller]</td>\n",
       "      <td>[police, sequel, policeofficer, copuniverse]</td>\n",
       "      <td>[AkshayKumar, KatrinaKaif, AjayDevgn, RanveerS...</td>\n",
       "      <td>[RohitShetty]</td>\n",
       "      <td>/8p3mhjyLjHKtaAv8tFKfvEBtir0.jpg</td>\n",
       "      <td>[AkshayKumar, KaranJohar, HirooJohar, RohitShe...</td>\n",
       "      <td>2021</td>\n",
       "    </tr>\n",
       "    <tr>\n",
       "      <th>2</th>\n",
       "      <td>864692</td>\n",
       "      <td>hi</td>\n",
       "      <td>[A, soldier, caught, by, enemies, and, presume...</td>\n",
       "      <td>Pathaan</td>\n",
       "      <td>[Action, Adventure, Thriller]</td>\n",
       "      <td>[spy, fakedeath, spythriller, spyuniverse, yrf...</td>\n",
       "      <td>[ShahRukhKhan, DeepikaPadukone, JohnAbraham, D...</td>\n",
       "      <td>[SiddharthAnand]</td>\n",
       "      <td>/m1b9toKYyCujHuLoXB5GSDunO9e.jpg</td>\n",
       "      <td>[AdityaChopra]</td>\n",
       "      <td>2023</td>\n",
       "    </tr>\n",
       "    <tr>\n",
       "      <th>3</th>\n",
       "      <td>1018228</td>\n",
       "      <td>hi</td>\n",
       "      <td>[A, flight, attendant, and, her, boyfriend, mu...</td>\n",
       "      <td>Chor Nikal Ke Bhaga</td>\n",
       "      <td>[Crime, Thriller]</td>\n",
       "      <td>[heist, airplanehijacking]</td>\n",
       "      <td>[YamiGautam, SunnyKaushal, SharadKelkar, Indra...</td>\n",
       "      <td>[AjaySingh]</td>\n",
       "      <td>/1MIDERaEUMw1rYDM99tGZPY80Ap.jpg</td>\n",
       "      <td>[DineshVijan, AmarKaushik]</td>\n",
       "      <td>2023</td>\n",
       "    </tr>\n",
       "    <tr>\n",
       "      <th>4</th>\n",
       "      <td>20453</td>\n",
       "      <td>hi</td>\n",
       "      <td>[Rascal, Joker, Dreamer, Genius, You've, never...</td>\n",
       "      <td>3 Idiots</td>\n",
       "      <td>[Drama, Comedy]</td>\n",
       "      <td>[suicide, suicideattempt, college, musical, sl...</td>\n",
       "      <td>[AamirKhan, R.Madhavan, SharmanJoshi, KareenaK...</td>\n",
       "      <td>[RajkumarHirani]</td>\n",
       "      <td>/66A9MqXOyVFCssoloscw79z8Tew.jpg</td>\n",
       "      <td>[VidhuVinodChopra]</td>\n",
       "      <td>2009</td>\n",
       "    </tr>\n",
       "  </tbody>\n",
       "</table>\n",
       "</div>"
      ],
      "text/plain": [
       "   movie_id original_language  \\\n",
       "0    783461                hi   \n",
       "1    592508                hi   \n",
       "2    864692                hi   \n",
       "3   1018228                hi   \n",
       "4     20453                hi   \n",
       "\n",
       "                                            overview                title  \\\n",
       "0  [When, her, boyfriend, loses, a, mobster's, ca...         Looop Lapeta   \n",
       "1  [A, fearless, faithful, albeit, slightly, forg...         Sooryavanshi   \n",
       "2  [A, soldier, caught, by, enemies, and, presume...              Pathaan   \n",
       "3  [A, flight, attendant, and, her, boyfriend, mu...  Chor Nikal Ke Bhaga   \n",
       "4  [Rascal, Joker, Dreamer, Genius, You've, never...             3 Idiots   \n",
       "\n",
       "                          genres  \\\n",
       "0        [Action, Comedy, Crime]   \n",
       "1      [Action, Crime, Thriller]   \n",
       "2  [Action, Adventure, Thriller]   \n",
       "3              [Crime, Thriller]   \n",
       "4                [Drama, Comedy]   \n",
       "\n",
       "                                            keywords  \\\n",
       "0                  [remake, loooplapeta, saadesaati]   \n",
       "1       [police, sequel, policeofficer, copuniverse]   \n",
       "2  [spy, fakedeath, spythriller, spyuniverse, yrf...   \n",
       "3                         [heist, airplanehijacking]   \n",
       "4  [suicide, suicideattempt, college, musical, sl...   \n",
       "\n",
       "                                                cast          director  \\\n",
       "0  [TaapseePannu, TahirRajBhasin, ShreyaDhanwanth...    [AakashBhatia]   \n",
       "1  [AkshayKumar, KatrinaKaif, AjayDevgn, RanveerS...     [RohitShetty]   \n",
       "2  [ShahRukhKhan, DeepikaPadukone, JohnAbraham, D...  [SiddharthAnand]   \n",
       "3  [YamiGautam, SunnyKaushal, SharadKelkar, Indra...       [AjaySingh]   \n",
       "4  [AamirKhan, R.Madhavan, SharmanJoshi, KareenaK...  [RajkumarHirani]   \n",
       "\n",
       "                        poster_path  \\\n",
       "0  /onGdT8sYi89drvSJyEJnft97rOq.jpg   \n",
       "1  /8p3mhjyLjHKtaAv8tFKfvEBtir0.jpg   \n",
       "2  /m1b9toKYyCujHuLoXB5GSDunO9e.jpg   \n",
       "3  /1MIDERaEUMw1rYDM99tGZPY80Ap.jpg   \n",
       "4  /66A9MqXOyVFCssoloscw79z8Tew.jpg   \n",
       "\n",
       "                                           Producers release_year  \n",
       "0  [TanujGarg, AtulKasbekar, SimranSawhney, Aayus...         2022  \n",
       "1  [AkshayKumar, KaranJohar, HirooJohar, RohitShe...         2021  \n",
       "2                                     [AdityaChopra]         2023  \n",
       "3                         [DineshVijan, AmarKaushik]         2023  \n",
       "4                                 [VidhuVinodChopra]         2009  "
      ]
     },
     "execution_count": 29,
     "metadata": {},
     "output_type": "execute_result"
    }
   ],
   "source": [
    "df4.head()"
   ]
  },
  {
   "cell_type": "code",
   "execution_count": 30,
   "id": "6d5130b5-090b-4e91-94f5-b4f9eabad3ef",
   "metadata": {},
   "outputs": [],
   "source": [
    "df5 = df4.copy()"
   ]
  },
  {
   "cell_type": "code",
   "execution_count": 31,
   "id": "d0407e5c-f25b-4caf-b6d3-4701dcddc554",
   "metadata": {},
   "outputs": [],
   "source": [
    "df5['tags'] = ''\n",
    "\n",
    "columns_to_concat = ['original_language', 'overview', 'genres', 'keywords', 'cast', 'director', 'Producers', 'release_year']\n",
    "\n",
    "for index, row in df5.iterrows():\n",
    "    combined_string = ''\n",
    "    for column in columns_to_concat:\n",
    "        value = row[column]\n",
    "        if isinstance(value, list):\n",
    "            value = ' '.join(map(str, value))\n",
    "        combined_string += str(value) + ' '\n",
    "    df5.at[index, 'tags'] = combined_string.strip()\n",
    "\n"
   ]
  },
  {
   "cell_type": "code",
   "execution_count": 32,
   "id": "e8d00be7-0cd6-4974-8bf3-0e75b336d5c6",
   "metadata": {},
   "outputs": [],
   "source": [
    "df6 = df5[['movie_id' ,'title' ,'tags','poster_path']]"
   ]
  },
  {
   "cell_type": "code",
   "execution_count": 33,
   "id": "f761d9d5-05fd-4418-812a-67cb59ad30a8",
   "metadata": {},
   "outputs": [
    {
     "data": {
      "text/html": [
       "<div>\n",
       "<style scoped>\n",
       "    .dataframe tbody tr th:only-of-type {\n",
       "        vertical-align: middle;\n",
       "    }\n",
       "\n",
       "    .dataframe tbody tr th {\n",
       "        vertical-align: top;\n",
       "    }\n",
       "\n",
       "    .dataframe thead th {\n",
       "        text-align: right;\n",
       "    }\n",
       "</style>\n",
       "<table border=\"1\" class=\"dataframe\">\n",
       "  <thead>\n",
       "    <tr style=\"text-align: right;\">\n",
       "      <th></th>\n",
       "      <th>movie_id</th>\n",
       "      <th>title</th>\n",
       "      <th>tags</th>\n",
       "      <th>poster_path</th>\n",
       "    </tr>\n",
       "  </thead>\n",
       "  <tbody>\n",
       "    <tr>\n",
       "      <th>0</th>\n",
       "      <td>783461</td>\n",
       "      <td>Looop Lapeta</td>\n",
       "      <td>hi When her boyfriend loses a mobster's cash S...</td>\n",
       "      <td>/onGdT8sYi89drvSJyEJnft97rOq.jpg</td>\n",
       "    </tr>\n",
       "    <tr>\n",
       "      <th>1</th>\n",
       "      <td>592508</td>\n",
       "      <td>Sooryavanshi</td>\n",
       "      <td>hi A fearless faithful albeit slightly forgetf...</td>\n",
       "      <td>/8p3mhjyLjHKtaAv8tFKfvEBtir0.jpg</td>\n",
       "    </tr>\n",
       "    <tr>\n",
       "      <th>2</th>\n",
       "      <td>864692</td>\n",
       "      <td>Pathaan</td>\n",
       "      <td>hi A soldier caught by enemies and presumed de...</td>\n",
       "      <td>/m1b9toKYyCujHuLoXB5GSDunO9e.jpg</td>\n",
       "    </tr>\n",
       "    <tr>\n",
       "      <th>3</th>\n",
       "      <td>1018228</td>\n",
       "      <td>Chor Nikal Ke Bhaga</td>\n",
       "      <td>hi A flight attendant and her boyfriend must s...</td>\n",
       "      <td>/1MIDERaEUMw1rYDM99tGZPY80Ap.jpg</td>\n",
       "    </tr>\n",
       "    <tr>\n",
       "      <th>4</th>\n",
       "      <td>20453</td>\n",
       "      <td>3 Idiots</td>\n",
       "      <td>hi Rascal Joker Dreamer Genius You've never me...</td>\n",
       "      <td>/66A9MqXOyVFCssoloscw79z8Tew.jpg</td>\n",
       "    </tr>\n",
       "  </tbody>\n",
       "</table>\n",
       "</div>"
      ],
      "text/plain": [
       "   movie_id                title  \\\n",
       "0    783461         Looop Lapeta   \n",
       "1    592508         Sooryavanshi   \n",
       "2    864692              Pathaan   \n",
       "3   1018228  Chor Nikal Ke Bhaga   \n",
       "4     20453             3 Idiots   \n",
       "\n",
       "                                                tags  \\\n",
       "0  hi When her boyfriend loses a mobster's cash S...   \n",
       "1  hi A fearless faithful albeit slightly forgetf...   \n",
       "2  hi A soldier caught by enemies and presumed de...   \n",
       "3  hi A flight attendant and her boyfriend must s...   \n",
       "4  hi Rascal Joker Dreamer Genius You've never me...   \n",
       "\n",
       "                        poster_path  \n",
       "0  /onGdT8sYi89drvSJyEJnft97rOq.jpg  \n",
       "1  /8p3mhjyLjHKtaAv8tFKfvEBtir0.jpg  \n",
       "2  /m1b9toKYyCujHuLoXB5GSDunO9e.jpg  \n",
       "3  /1MIDERaEUMw1rYDM99tGZPY80Ap.jpg  \n",
       "4  /66A9MqXOyVFCssoloscw79z8Tew.jpg  "
      ]
     },
     "execution_count": 33,
     "metadata": {},
     "output_type": "execute_result"
    }
   ],
   "source": [
    "df6.head()"
   ]
  },
  {
   "cell_type": "code",
   "execution_count": 34,
   "id": "f4a4ea43-318f-4cd7-9e97-0aedc6c45f51",
   "metadata": {
    "scrolled": true
   },
   "outputs": [
    {
     "name": "stderr",
     "output_type": "stream",
     "text": [
      "C:\\Users\\Admin\\AppData\\Local\\Temp\\ipykernel_4252\\2668172899.py:1: SettingWithCopyWarning: \n",
      "A value is trying to be set on a copy of a slice from a DataFrame.\n",
      "Try using .loc[row_indexer,col_indexer] = value instead\n",
      "\n",
      "See the caveats in the documentation: https://pandas.pydata.org/pandas-docs/stable/user_guide/indexing.html#returning-a-view-versus-a-copy\n",
      "  df6['tags'] = df6['tags'].apply(lambda x:x.lower())\n",
      "C:\\Users\\Admin\\AppData\\Local\\Temp\\ipykernel_4252\\2668172899.py:2: SettingWithCopyWarning: \n",
      "A value is trying to be set on a copy of a slice from a DataFrame.\n",
      "Try using .loc[row_indexer,col_indexer] = value instead\n",
      "\n",
      "See the caveats in the documentation: https://pandas.pydata.org/pandas-docs/stable/user_guide/indexing.html#returning-a-view-versus-a-copy\n",
      "  df6['title'] = df6['title'].apply(lambda x:x.lower())\n"
     ]
    }
   ],
   "source": [
    "df6['tags'] = df6['tags'].apply(lambda x:x.lower())\n",
    "df6['title'] = df6['title'].apply(lambda x:x.lower())\n"
   ]
  },
  {
   "cell_type": "code",
   "execution_count": 35,
   "id": "7da5317b-921f-4184-9f64-f27fec0bca3e",
   "metadata": {},
   "outputs": [],
   "source": [
    "import nltk \n",
    "from nltk.stem.porter import PorterStemmer\n",
    "ps = PorterStemmer()\n"
   ]
  },
  {
   "cell_type": "code",
   "execution_count": 36,
   "id": "4997c7f1-e0aa-4fb4-a3ea-d1882af6a94f",
   "metadata": {},
   "outputs": [],
   "source": [
    "def stem(text):\n",
    "    y =[]\n",
    "    for i in text.split():\n",
    "        y.append(ps.stem(i))\n",
    "    return \" \".join(y) "
   ]
  },
  {
   "cell_type": "code",
   "execution_count": 37,
   "id": "25ebe81d-e583-48db-ba14-f37e4b9d4226",
   "metadata": {
    "scrolled": true
   },
   "outputs": [
    {
     "name": "stderr",
     "output_type": "stream",
     "text": [
      "C:\\Users\\Admin\\AppData\\Local\\Temp\\ipykernel_4252\\1159521358.py:1: SettingWithCopyWarning: \n",
      "A value is trying to be set on a copy of a slice from a DataFrame.\n",
      "Try using .loc[row_indexer,col_indexer] = value instead\n",
      "\n",
      "See the caveats in the documentation: https://pandas.pydata.org/pandas-docs/stable/user_guide/indexing.html#returning-a-view-versus-a-copy\n",
      "  df6['tags']=df6['tags'].apply(stem)\n"
     ]
    }
   ],
   "source": [
    "df6['tags']=df6['tags'].apply(stem)"
   ]
  },
  {
   "cell_type": "code",
   "execution_count": 38,
   "id": "95ec498d-a245-4241-8a12-6f753b1a70bd",
   "metadata": {},
   "outputs": [
    {
     "name": "stderr",
     "output_type": "stream",
     "text": [
      "C:\\Users\\Admin\\AppData\\Local\\Temp\\ipykernel_4252\\2491531949.py:1: SettingWithCopyWarning: \n",
      "A value is trying to be set on a copy of a slice from a DataFrame.\n",
      "Try using .loc[row_indexer,col_indexer] = value instead\n",
      "\n",
      "See the caveats in the documentation: https://pandas.pydata.org/pandas-docs/stable/user_guide/indexing.html#returning-a-view-versus-a-copy\n",
      "  df6['count'] = np.arange(df6.shape[0])\n"
     ]
    }
   ],
   "source": [
    "df6['count'] = np.arange(df6.shape[0])"
   ]
  },
  {
   "cell_type": "code",
   "execution_count": 39,
   "id": "6a658728-bde4-4abf-9ec4-03d4fd491109",
   "metadata": {},
   "outputs": [],
   "source": [
    "#Model "
   ]
  },
  {
   "cell_type": "code",
   "execution_count": 40,
   "id": "43e6a4a3-c59e-4d2c-b623-d82f821cf94b",
   "metadata": {},
   "outputs": [],
   "source": [
    "from sklearn.feature_extraction.text import CountVectorizer\n",
    "cv = CountVectorizer(max_features = 15000, stop_words = 'english')"
   ]
  },
  {
   "cell_type": "code",
   "execution_count": 41,
   "id": "d1854069-001c-46f4-9e92-2d6361acf0f6",
   "metadata": {},
   "outputs": [],
   "source": [
    "vector=cv.fit_transform(df6['tags']).toarray()"
   ]
  },
  {
   "cell_type": "code",
   "execution_count": 42,
   "id": "e733b299-625e-4216-a808-9cfb1cbe73f7",
   "metadata": {},
   "outputs": [
    {
     "data": {
      "text/plain": [
       "(12752, 15000)"
      ]
     },
     "execution_count": 42,
     "metadata": {},
     "output_type": "execute_result"
    }
   ],
   "source": [
    "vector.shape"
   ]
  },
  {
   "cell_type": "code",
   "execution_count": 43,
   "id": "43d7153b-9a52-48ef-aa48-b4ad800b4761",
   "metadata": {
    "scrolled": true
   },
   "outputs": [
    {
     "data": {
      "text/plain": [
       "array(['007', '10', '100', ..., 'zoëkravitz', 'zubeida', 'álvaroaugustín'],\n",
       "      dtype=object)"
      ]
     },
     "execution_count": 43,
     "metadata": {},
     "output_type": "execute_result"
    }
   ],
   "source": [
    "cv.get_feature_names_out()\n"
   ]
  },
  {
   "cell_type": "code",
   "execution_count": 44,
   "id": "689f6b14-c47a-4f89-8d89-e9a10840b0d5",
   "metadata": {},
   "outputs": [],
   "source": [
    "from sklearn.metrics.pairwise import cosine_similarity"
   ]
  },
  {
   "cell_type": "code",
   "execution_count": 45,
   "id": "13f853ac-55bd-438e-8d20-803b3aaec6b5",
   "metadata": {},
   "outputs": [],
   "source": [
    "# cosine_similarity(vector).shape\n",
    "\n",
    "#taking similiarity(angle) of each movie with other movie and giving "
   ]
  },
  {
   "cell_type": "code",
   "execution_count": 46,
   "id": "2a82cc75-87da-478a-b937-656426290706",
   "metadata": {
    "scrolled": true
   },
   "outputs": [],
   "source": [
    "similarity = cosine_similarity(vector)"
   ]
  },
  {
   "cell_type": "code",
   "execution_count": 47,
   "id": "46fb7e8c-0dd2-448e-aad8-b4d9b594b534",
   "metadata": {},
   "outputs": [
    {
     "data": {
      "text/plain": [
       "(12752, 12752)"
      ]
     },
     "execution_count": 47,
     "metadata": {},
     "output_type": "execute_result"
    }
   ],
   "source": [
    "similarity.shape"
   ]
  },
  {
   "cell_type": "code",
   "execution_count": 48,
   "id": "4e10c41e-f4d0-478e-840d-347d8585acb2",
   "metadata": {},
   "outputs": [
    {
     "data": {
      "text/plain": [
       "array([0.11428571, 1.        , 0.15916743, ..., 0.01683588, 0.05778856,\n",
       "       0.        ])"
      ]
     },
     "execution_count": 48,
     "metadata": {},
     "output_type": "execute_result"
    }
   ],
   "source": [
    "similarity[1]\n"
   ]
  },
  {
   "cell_type": "code",
   "execution_count": 49,
   "id": "c98c1852-bcb9-4ce4-a6e1-e0886ec93f8c",
   "metadata": {},
   "outputs": [],
   "source": [
    "#model-calling"
   ]
  },
  {
   "cell_type": "code",
   "execution_count": 50,
   "id": "ed2348ff-4e59-44d4-9115-28764dd5f221",
   "metadata": {},
   "outputs": [],
   "source": [
    "#testing\n",
    "# df6.loc[df6['count'] == 1592, 'title'].values[0]\n",
    "# sorted(list(enumerate(similarity[486])),reverse = True, key= lambda x:x[1])[1:6]\n",
    "# df6[df6['title'] == 'killing season']['count'].values[0]\n",
    "# df6.loc[df6['title'] == 'batman begins', 'count'].values[0]\n",
    "# df6[df6['title']== 'killing season']['count']"
   ]
  },
  {
   "cell_type": "code",
   "execution_count": 51,
   "id": "e2e0c04b-759a-4bf4-a2a3-71c1d0d54a4b",
   "metadata": {},
   "outputs": [
    {
     "name": "stdout",
     "output_type": "stream",
     "text": [
      "<class 'pandas.core.frame.DataFrame'>\n",
      "Index: 12752 entries, 0 to 15870\n",
      "Data columns (total 5 columns):\n",
      " #   Column       Non-Null Count  Dtype \n",
      "---  ------       --------------  ----- \n",
      " 0   movie_id     12752 non-null  int64 \n",
      " 1   title        12752 non-null  object\n",
      " 2   tags         12752 non-null  object\n",
      " 3   poster_path  12752 non-null  object\n",
      " 4   count        12752 non-null  int32 \n",
      "dtypes: int32(1), int64(1), object(3)\n",
      "memory usage: 1.0+ MB\n"
     ]
    }
   ],
   "source": [
    "df6.info()"
   ]
  },
  {
   "cell_type": "code",
   "execution_count": 52,
   "id": "d53192c9-f992-4f72-8fdc-8f9d90ebffcd",
   "metadata": {},
   "outputs": [],
   "source": [
    "def recommend(movie):\n",
    "    movie_index= df6[df6['title'] == movie.lower() ]['count'].values[0]\n",
    "    distances = similarity[movie_index]\n",
    "    movie_list = sorted(list(enumerate(distances)),reverse = True, key= lambda x:x[1])[1:11]\n",
    "\n",
    "    for i in movie_list:\n",
    "        # print(i[0])\n",
    "        print(df6.loc[df6['count'] == i[0] , 'movie_id' ].values[0])\n",
    "    return\n",
    "\n"
   ]
  },
  {
   "cell_type": "code",
   "execution_count": 53,
   "id": "13d2954d-9de5-49b4-a639-a2cd45466c9a",
   "metadata": {},
   "outputs": [
    {
     "name": "stdout",
     "output_type": "stream",
     "text": [
      "155\n",
      "49026\n",
      "366924\n",
      "414906\n",
      "268\n",
      "628833\n",
      "40662\n",
      "270823\n",
      "315635\n",
      "695973\n"
     ]
    }
   ],
   "source": [
    "recommend('batman begins')"
   ]
  },
  {
   "cell_type": "code",
   "execution_count": 54,
   "id": "c8829634-50b7-4672-ab02-a43a650083bd",
   "metadata": {},
   "outputs": [
    {
     "name": "stdout",
     "output_type": "stream",
     "text": [
      "450699\n",
      "441547\n",
      "214393\n",
      "270823\n",
      "819767\n",
      "210068\n",
      "741374\n",
      "54098\n",
      "45316\n",
      "460122\n"
     ]
    }
   ],
   "source": [
    "recommend('the amazing spider-man')"
   ]
  },
  {
   "cell_type": "code",
   "execution_count": null,
   "id": "6bcd03d0-5a04-4542-b89e-c23dc30d0981",
   "metadata": {},
   "outputs": [],
   "source": []
  },
  {
   "cell_type": "code",
   "execution_count": 55,
   "id": "fe94864c-1c8c-4fa3-a2c9-3363ca75f6b5",
   "metadata": {},
   "outputs": [],
   "source": [
    "df7 =df6.copy()\n"
   ]
  },
  {
   "cell_type": "code",
   "execution_count": 56,
   "id": "42026d0a-8f8b-4340-9bd6-ff4d45549cbc",
   "metadata": {},
   "outputs": [
    {
     "data": {
      "text/plain": [
       "array([1.        , 0.25537696, 0.10910895, ..., 0.18973666, 0.19603921,\n",
       "       0.23911602])"
      ]
     },
     "execution_count": 56,
     "metadata": {},
     "output_type": "execute_result"
    }
   ],
   "source": [
    "from sklearn.feature_extraction.text import HashingVectorizer\n",
    "hv = HashingVectorizer(n_features=15000,norm=None,alternate_sign=False)\n",
    "dat = hv.fit_transform(df7['tags'])\n",
    "dat.shape\n",
    "similarity_again = cosine_similarity(dat)\n",
    "similarity_again[0]"
   ]
  },
  {
   "cell_type": "code",
   "execution_count": 57,
   "id": "1a6f0967-17ac-4b44-b90d-f5f97684221f",
   "metadata": {},
   "outputs": [],
   "source": [
    "def recommend_hash(movie):\n",
    "    movie_index= df7[df7['title'] == movie.lower() ]['count'].values[0]\n",
    "    distances = similarity_again[movie_index]\n",
    "    movie_list = sorted(list(enumerate(distances)),reverse = True, key= lambda x:x[1])[1:11]\n",
    "\n",
    "    for i in movie_list:\n",
    "        # print(i[0])\n",
    "        print(df7.loc[df7['count'] == i[0] , 'title' ].values[0])\n",
    "    return"
   ]
  },
  {
   "cell_type": "code",
   "execution_count": 58,
   "id": "a2f734dd-e4b1-4643-b04b-36c8849da548",
   "metadata": {},
   "outputs": [
    {
     "name": "stdout",
     "output_type": "stream",
     "text": [
      "the dark knight\n",
      "the dark knight rises\n",
      "netaji subhas chandra bose: the forgotten hero\n",
      "lootmaar\n",
      "reign of the supermen\n",
      "cross of iron\n",
      "vaastav\n",
      "dastak\n",
      "nakshatra\n",
      "ironclad\n",
      "systam\n",
      "kasganj\n",
      "knotted\n",
      "netaji subhas chandra bose: the forgotten hero\n",
      "the stitch\n",
      "reign of the supermen\n",
      "private detective: two plus two plus one\n",
      "holi\n",
      "the lion guard: return of the roar\n",
      "tripura\n"
     ]
    }
   ],
   "source": [
    "recommend_hash('batman begins')\n",
    "recommend_hash('vaastav')"
   ]
  },
  {
   "cell_type": "code",
   "execution_count": 59,
   "id": "1c975099-1889-4555-8d3c-87de0c3d6205",
   "metadata": {},
   "outputs": [],
   "source": [
    "import pickle\n",
    "# pickle.dump(df6,open('movies.pkl','wb'))"
   ]
  },
  {
   "cell_type": "code",
   "execution_count": 60,
   "id": "b7095c9a-a5fc-4cd5-babe-55e5aced3b7f",
   "metadata": {},
   "outputs": [],
   "source": [
    "df6.to_pickle(\"movies1.pkl\")"
   ]
  },
  {
   "cell_type": "code",
   "execution_count": 61,
   "id": "f8457e9d-893d-4ccb-8e71-1f20d5f254c4",
   "metadata": {},
   "outputs": [],
   "source": [
    "pickle.dump(similarity,open('similar.pkl','wb'))"
   ]
  },
  {
   "cell_type": "code",
   "execution_count": 62,
   "id": "15304107-8ac0-4c69-afa1-ecb5b8df2ee1",
   "metadata": {},
   "outputs": [
    {
     "name": "stdout",
     "output_type": "stream",
     "text": [
      "<class 'pandas.core.frame.DataFrame'>\n",
      "Index: 12752 entries, 0 to 15870\n",
      "Data columns (total 5 columns):\n",
      " #   Column       Non-Null Count  Dtype \n",
      "---  ------       --------------  ----- \n",
      " 0   movie_id     12752 non-null  int64 \n",
      " 1   title        12752 non-null  object\n",
      " 2   tags         12752 non-null  object\n",
      " 3   poster_path  12752 non-null  object\n",
      " 4   count        12752 non-null  int32 \n",
      "dtypes: int32(1), int64(1), object(3)\n",
      "memory usage: 1.0+ MB\n"
     ]
    }
   ],
   "source": [
    "# df6.info()"
   ]
  },
  {
   "cell_type": "code",
   "execution_count": null,
   "id": "f73ef121-05b8-46f7-b04d-5cde7ddf8697",
   "metadata": {},
   "outputs": [],
   "source": []
  },
  {
   "cell_type": "code",
   "execution_count": null,
   "id": "97c6ae69-9fe0-4750-bfa0-3151a1b39ade",
   "metadata": {},
   "outputs": [],
   "source": []
  },
  {
   "cell_type": "code",
   "execution_count": null,
   "id": "aaf7fd4b-12ad-4b41-930e-3bbe4087a152",
   "metadata": {},
   "outputs": [],
   "source": []
  },
  {
   "cell_type": "code",
   "execution_count": null,
   "id": "2f08f83e-44b7-4919-aeb1-782ca6f6eaa7",
   "metadata": {},
   "outputs": [],
   "source": []
  }
 ],
 "metadata": {
  "kernelspec": {
   "display_name": "Python (GPU)",
   "language": "python",
   "name": "gpu_env"
  },
  "language_info": {
   "codemirror_mode": {
    "name": "ipython",
    "version": 3
   },
   "file_extension": ".py",
   "mimetype": "text/x-python",
   "name": "python",
   "nbconvert_exporter": "python",
   "pygments_lexer": "ipython3",
   "version": "3.12.3"
  }
 },
 "nbformat": 4,
 "nbformat_minor": 5
}
